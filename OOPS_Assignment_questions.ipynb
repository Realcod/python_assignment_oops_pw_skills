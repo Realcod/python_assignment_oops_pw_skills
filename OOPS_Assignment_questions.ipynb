{
  "nbformat": 4,
  "nbformat_minor": 0,
  "metadata": {
    "colab": {
      "provenance": []
    },
    "kernelspec": {
      "name": "python3",
      "display_name": "Python 3"
    },
    "language_info": {
      "name": "python"
    }
  },
  "cells": [
    {
      "cell_type": "markdown",
      "source": [
        "1. What are the five key concepts of Object-Oriented Programming (OOP)?\n",
        "The five key concepts of Object-Oriented Programming (OOP) are:\n",
        "\n",
        "Classes: A class is a blueprint or template that defines the structure and behavior (methods and properties) of objects. It encapsulates data and functions that operate on the data. For example, a Car class might have attributes like color and model and methods like drive().\n",
        "\n",
        "Objects: An object is an instance of a class. While a class defines the structure, an object is a specific realization of that structure, containing actual values for the properties defined by the class. For example, myCar = Car() creates an object myCar from the Car class.\n",
        "\n",
        "Encapsulation: Encapsulation refers to the bundling of data (attributes) and methods (functions) that operate on the data into a single unit or class, and restricting direct access to some of the object's components. This is often done by making attributes private and providing public getter and setter methods to interact with them.\n",
        "\n",
        "Inheritance: Inheritance allows a new class (subclass or derived class) to inherit properties and methods from an existing class (superclass or base class). It facilitates code reuse and the creation of a hierarchical relationship between classes. For example, a Truck class can inherit from a Vehicle class and extend its functionality.\n",
        "\n",
        "Polymorphism: Polymorphism allows objects of different classes to be treated as objects of a common superclass. It also allows the same method to behave differently based on the object that invokes it. Polymorphism can be achieved through method overriding (redefining methods in a subclass) and method overloading (having multiple methods with the same name but different parameters)."
      ],
      "metadata": {
        "id": "Ew9hI_xpHzKJ"
      }
    },
    {
      "cell_type": "code",
      "source": [
        "#2) Write a Python class for a `Car` with attributes for `make`, `model`, and `year`. Include a method to display the car's information.\n",
        "class Car:\n",
        "  def __init__(self, make, model, year):\n",
        "    self.make = make\n",
        "    self.model = model\n",
        "    self.year = year\n",
        "\n",
        "  def display_info(self):\n",
        "    print(f\"Make: {self.make}, Model: {self.model}, Year: {self.year}\")\n",
        "\n",
        "C1=Car(\"Toyota\", \"Camry\", 2022)\n",
        "C1.display_info()"
      ],
      "metadata": {
        "colab": {
          "base_uri": "https://localhost:8080/"
        },
        "id": "XSIkT4FEI0Ln",
        "outputId": "9f1c1207-853e-4f09-aa8f-9c8e53e42e20"
      },
      "execution_count": 1,
      "outputs": [
        {
          "output_type": "stream",
          "name": "stdout",
          "text": [
            "Make: Toyota, Model: Camry, Year: 2022\n"
          ]
        }
      ]
    },
    {
      "cell_type": "code",
      "source": [
        "#3)  Explain the difference between instance methods and class methods. Provide an example of each?"
      ],
      "metadata": {
        "id": "HE51bJ8eJkRx"
      },
      "execution_count": null,
      "outputs": []
    },
    {
      "cell_type": "markdown",
      "source": [
        "1. Instance Methods\n",
        "Definition: An instance method is a method that operates on the instance (object) of the class. It can access and modify instance-specific data (attributes) and is the most common method type in object-oriented programming.\n",
        "Access: Instance methods can access the instance attributes using self, which represents the instance that called the method.\n",
        "Usage: When you want a method to work on data unique to each object (instance), you use an instance method."
      ],
      "metadata": {
        "id": "vbge2nqyJvwd"
      }
    },
    {
      "cell_type": "code",
      "source": [
        "class Car:\n",
        "    def __init__(self, make, model, year):\n",
        "        self.make = make\n",
        "        self.model = model\n",
        "        self.year = year\n",
        "\n",
        "    def display_info(self):\n",
        "        print(f\"Make: {self.make}, Model: {self.model}, Year: {self.year}\")\n",
        "\n",
        "C1 = Car(\"Toyota\", \"Camry\", 2022)\n",
        "C1.display_info()\n"
      ],
      "metadata": {
        "colab": {
          "base_uri": "https://localhost:8080/"
        },
        "id": "sVDvm9Z4JxMr",
        "outputId": "e07d6831-7e3c-4020-9b24-1ea2afd6642d"
      },
      "execution_count": 2,
      "outputs": [
        {
          "output_type": "stream",
          "name": "stdout",
          "text": [
            "Make: Toyota, Model: Camry, Year: 2022\n"
          ]
        }
      ]
    },
    {
      "cell_type": "markdown",
      "source": [
        "lass Methods\n",
        "Definition: A class method is a method that is bound to the class, not the instance. It operates on the class itself rather than the instance, meaning it can modify class-level attributes but cannot access instance-specific data.\n",
        "Access: Class methods use cls as the first parameter instead of self, where cls represents the class itself. They are defined using the @classmethod decorator.\n",
        "Usage: When you need to perform operations that affect the class as a whole or work with class-level data (shared by all instances), you use a class method."
      ],
      "metadata": {
        "id": "TPpUCc6tKeeY"
      }
    },
    {
      "cell_type": "code",
      "source": [
        "class Car:\n",
        "    car_count = 0\n",
        "\n",
        "    def __init__(self, make, model, year):\n",
        "        self.make = make\n",
        "        self.model = model\n",
        "        self.year = year\n",
        "        Car.car_count += 1\n",
        "\n",
        "    # Instance method\n",
        "    def display_info(self):\n",
        "        print(f\"Make: {self.make}, Model: {self.model}, Year: {self.year}\")\n",
        "\n",
        "    # Class method\n",
        "    @classmethod\n",
        "    def display_car_count(cls):\n",
        "        print(f\"Total number of cars: {cls.car_count}\")\n",
        "\n",
        "# Creating instances of the Car class\n",
        "C1 = Car(\"Toyota\", \"Camry\", 2022)\n",
        "C2 = Car(\"Honda\", \"Civic\", 2023)\n",
        "\n",
        "C1.display_info()   # Instance method call\n",
        "Car.display_car_count()  # Class method call\n"
      ],
      "metadata": {
        "colab": {
          "base_uri": "https://localhost:8080/"
        },
        "id": "_0_ltBKSKg0P",
        "outputId": "96219472-9295-49cd-e2cf-a6f13e29316b"
      },
      "execution_count": 3,
      "outputs": [
        {
          "output_type": "stream",
          "name": "stdout",
          "text": [
            "Make: Toyota, Model: Camry, Year: 2022\n",
            "Total number of cars: 2\n"
          ]
        }
      ]
    },
    {
      "cell_type": "code",
      "source": [
        "#4)  How does Python implement method overloading? Give an example\n",
        "class MathOperations:\n",
        "    def add(self, a, b, c=0):\n",
        "        return a + b + c\n",
        "\n",
        "# Creating an instance of MathOperations\n",
        "math_ops = MathOperations()\n",
        "\n",
        "# Calling add with two arguments\n",
        "result1 = math_ops.add(2, 3)\n",
        "print(f\"Sum of two numbers: {result1}\")  # Output: 5\n",
        "\n",
        "# Calling add with three arguments\n",
        "result2 = math_ops.add(2, 3, 4)\n",
        "print(f\"Sum of three numbers: {result2}\")  # Output: 9\n"
      ],
      "metadata": {
        "colab": {
          "base_uri": "https://localhost:8080/"
        },
        "id": "NS9Z9pBJKoYD",
        "outputId": "dc5e4191-8af2-4c1b-f40c-2ef801eb054c"
      },
      "execution_count": 4,
      "outputs": [
        {
          "output_type": "stream",
          "name": "stdout",
          "text": [
            "Sum of two numbers: 5\n",
            "Sum of three numbers: 9\n"
          ]
        }
      ]
    },
    {
      "cell_type": "code",
      "source": [
        "#5) 5. What are the three types of access modifiers in Python? How are they denoted?\n",
        "\n",
        "#Public:\n",
        "class MyClass:\n",
        "    def __init__(self):\n",
        "        self.public_var = \"I am public\"\n",
        "\n",
        "obj = MyClass()\n",
        "print(obj.public_var)\n"
      ],
      "metadata": {
        "colab": {
          "base_uri": "https://localhost:8080/"
        },
        "id": "VSeAm4ClL6co",
        "outputId": "fdecf122-f808-446c-dcca-0dd3a1040181"
      },
      "execution_count": 5,
      "outputs": [
        {
          "output_type": "stream",
          "name": "stdout",
          "text": [
            "I am public\n"
          ]
        }
      ]
    },
    {
      "cell_type": "code",
      "source": [
        "#Protected:\n",
        "class MyClass:\n",
        "    def __init__(self):\n",
        "        self._protected_var = \"I am protected\"\n",
        "\n",
        "class SubClass(MyClass):\n",
        "    def display(self):\n",
        "        print(self._protected_var)\n",
        "\n",
        "obj = SubClass()\n",
        "obj.display()\n"
      ],
      "metadata": {
        "colab": {
          "base_uri": "https://localhost:8080/"
        },
        "id": "GJ7rqOy5MN-g",
        "outputId": "fe51f942-e2c3-4866-9331-cb3c6a8794bf"
      },
      "execution_count": 6,
      "outputs": [
        {
          "output_type": "stream",
          "name": "stdout",
          "text": [
            "I am protected\n"
          ]
        }
      ]
    },
    {
      "cell_type": "code",
      "source": [
        "#Private:\n",
        "class MyClass:\n",
        "    def __init__(self):\n",
        "        self.__private_var = \"I am private\"\n",
        "\n",
        "    def get_private_var(self):\n",
        "        return self.__private_var\n",
        "\n",
        "obj = MyClass()\n",
        "print(obj.get_private_var())\n"
      ],
      "metadata": {
        "colab": {
          "base_uri": "https://localhost:8080/"
        },
        "id": "sEM5iU_RMc0R",
        "outputId": "25ad7c77-66a2-4676-dc15-9adef70c9ee3"
      },
      "execution_count": 7,
      "outputs": [
        {
          "output_type": "stream",
          "name": "stdout",
          "text": [
            "I am private\n"
          ]
        }
      ]
    },
    {
      "cell_type": "markdown",
      "source": [
        "6) Describe the five types of inheritance in Python. Provide a simple example of multiple inheritance."
      ],
      "metadata": {
        "id": "11ng2G54NArT"
      }
    },
    {
      "cell_type": "markdown",
      "source": [
        "1. Single Inheritance\n",
        "In single inheritance, a class (derived class) inherits from one parent class (base class).\n",
        "\n",
        "2. Multiple Inheritance\n",
        "In multiple inheritance, a class can inherit from more than one parent class. This allows the derived class to have access to attributes and methods from multiple base classes.\n",
        "\n",
        "3. Multilevel Inheritance\n",
        "In multilevel inheritance, a class inherits from a base class, and another class inherits from that derived class. This creates a chain of inheritance.\n",
        "\n",
        "4. Hierarchical Inheritance\n",
        "In hierarchical inheritance, multiple derived classes inherit from the same base class. This allows different classes to share the same functionality from a single parent class.\n",
        "\n",
        "5. Hybrid Inheritance\n",
        "Hybrid inheritance is a combination of two or more types of inheritance. For example, it may involve both multiple and multilevel inheritance."
      ],
      "metadata": {
        "id": "2UyRfFvEUYi0"
      }
    },
    {
      "cell_type": "code",
      "source": [
        "class Parent1:\n",
        "    def greet(self):\n",
        "        print(\"Hello from Parent1\")\n",
        "\n",
        "class Parent2:\n",
        "    def greet(self):\n",
        "        print(\"Hello from Parent2\")\n",
        "\n",
        "class Child(Parent1, Parent2):\n",
        "    def greet(self):\n",
        "        print(\"Hello from Child\")\n",
        "\n",
        "c = Child()\n",
        "c.greet()\n"
      ],
      "metadata": {
        "colab": {
          "base_uri": "https://localhost:8080/"
        },
        "id": "I4dOO6b7VI0l",
        "outputId": "0b89c736-eb60-4ed3-c1ba-e410c402d4f2"
      },
      "execution_count": 8,
      "outputs": [
        {
          "output_type": "stream",
          "name": "stdout",
          "text": [
            "Hello from Child\n"
          ]
        }
      ]
    },
    {
      "cell_type": "code",
      "source": [
        "#7) What is the Method Resolution Order (MRO) in Python? How can you retrieve it programmatically?"
      ],
      "metadata": {
        "id": "VXiecHxtVW4u"
      },
      "execution_count": null,
      "outputs": []
    },
    {
      "cell_type": "markdown",
      "source": [
        "The Method Resolution Order (MRO) in Python is the order in which Python looks for a method or attribute when it is invoked on an instance of a class. This concept becomes particularly important in cases of multiple inheritance, where a class inherits from more than one parent class."
      ],
      "metadata": {
        "id": "YcZaVtvKWKVw"
      }
    },
    {
      "cell_type": "code",
      "source": [
        "class A:\n",
        "    def show(self):\n",
        "        print(\"Class A\")\n",
        "\n",
        "class B(A):\n",
        "    def show(self):\n",
        "        print(\"Class B\")\n",
        "\n",
        "class C(A):\n",
        "    def show(self):\n",
        "        print(\"Class C\")\n",
        "\n",
        "class D(B, C):\n",
        "    def show(self):\n",
        "        print(\"Class D\")\n",
        "\n",
        "print(D.__mro__)\n",
        "\n",
        "print(D.mro())\n",
        "\n",
        "help(D)\n"
      ],
      "metadata": {
        "colab": {
          "base_uri": "https://localhost:8080/"
        },
        "id": "jAGLilGMWMji",
        "outputId": "b0c55109-1434-488c-909c-5e972531b37b"
      },
      "execution_count": 9,
      "outputs": [
        {
          "output_type": "stream",
          "name": "stdout",
          "text": [
            "(<class '__main__.D'>, <class '__main__.B'>, <class '__main__.C'>, <class '__main__.A'>, <class 'object'>)\n",
            "[<class '__main__.D'>, <class '__main__.B'>, <class '__main__.C'>, <class '__main__.A'>, <class 'object'>]\n",
            "Help on class D in module __main__:\n",
            "\n",
            "class D(B, C)\n",
            " |  Method resolution order:\n",
            " |      D\n",
            " |      B\n",
            " |      C\n",
            " |      A\n",
            " |      builtins.object\n",
            " |  \n",
            " |  Methods defined here:\n",
            " |  \n",
            " |  show(self)\n",
            " |  \n",
            " |  ----------------------------------------------------------------------\n",
            " |  Data descriptors inherited from A:\n",
            " |  \n",
            " |  __dict__\n",
            " |      dictionary for instance variables (if defined)\n",
            " |  \n",
            " |  __weakref__\n",
            " |      list of weak references to the object (if defined)\n",
            "\n"
          ]
        }
      ]
    },
    {
      "cell_type": "code",
      "source": [
        "#8) Create an abstract base class `Shape` with an abstract method `area()`. Then create two subclasses Circle and `Rectangle` that implement the `area()` method.\n",
        "from abc import ABC, abstractmethod\n",
        "import math\n",
        "\n",
        "class Shape(ABC):\n",
        "    @abstractmethod\n",
        "    def area(self):\n",
        "        pass\n",
        "\n",
        "class Circle(Shape):\n",
        "    def __init__(self, radius):\n",
        "        self.radius = radius\n",
        "\n",
        "    def area(self):\n",
        "        return math.pi * self.radius ** 2\n",
        "\n",
        "class Rectangle(Shape):\n",
        "    def __init__(self, width, height):\n",
        "        self.width = width\n",
        "        self.height = height\n",
        "\n",
        "    def area(self):\n",
        "        return self.width * self.height\n",
        "\n",
        "circle = Circle(5)\n",
        "print(f\"Area of the circle: {circle.area()}\")\n",
        "\n",
        "rectangle = Rectangle(4, 6)\n",
        "print(f\"Area of the rectangle: {rectangle.area()}\")\n"
      ],
      "metadata": {
        "colab": {
          "base_uri": "https://localhost:8080/"
        },
        "id": "BpmxEOySWVvF",
        "outputId": "c9baad44-1d15-4a6a-ff3a-dd0c344de693"
      },
      "execution_count": 10,
      "outputs": [
        {
          "output_type": "stream",
          "name": "stdout",
          "text": [
            "Area of the circle: 78.53981633974483\n",
            "Area of the rectangle: 24\n"
          ]
        }
      ]
    },
    {
      "cell_type": "code",
      "source": [
        "#9)  Demonstrate polymorphism by creating a function that can work with different shape objects to calculate and print their areas?\n",
        "# Class Circle\n",
        "class Circle:\n",
        "    def __init__(self, radius):\n",
        "        self.radius = radius\n",
        "\n",
        "    def area(self):\n",
        "        return 3.14159 * self.radius ** 2\n",
        "\n",
        "# Class Rectangle\n",
        "class Rectangle:\n",
        "    def __init__(self, width, height):\n",
        "        self.width = width\n",
        "        self.height = height\n",
        "\n",
        "    def area(self):\n",
        "        return self.width * self.height\n",
        "\n",
        "\n",
        "class Triangle:\n",
        "    def __init__(self, base, height):\n",
        "        self.base = base\n",
        "        self.height = height\n",
        "\n",
        "    def area(self):\n",
        "        return 0.5 * self.base * self.height\n",
        "\n",
        "def print_area(shape):\n",
        "    print(f\"The area of the shape is: {shape.area()}\")\n",
        "\n",
        "\n",
        "circle = Circle(5)\n",
        "rectangle = Rectangle(4, 6)\n",
        "triangle = Triangle(3, 7)\n",
        "\n",
        "print_area(circle)\n",
        "print_area(rectangle)\n",
        "print_area(triangle)\n"
      ],
      "metadata": {
        "colab": {
          "base_uri": "https://localhost:8080/"
        },
        "id": "ZpqrM2ueW5HF",
        "outputId": "d870e9bd-c6f0-49a1-b475-5f805136ec8a"
      },
      "execution_count": 11,
      "outputs": [
        {
          "output_type": "stream",
          "name": "stdout",
          "text": [
            "The area of the shape is: 78.53975\n",
            "The area of the shape is: 24\n",
            "The area of the shape is: 10.5\n"
          ]
        }
      ]
    },
    {
      "cell_type": "code",
      "source": [
        "#10)  Implement encapsulation in a `BankAccount` class with private attributes for `balance` and `account_number`. Include methods for deposit, withdrawal, and balance inquiry\n",
        "class BankAccount:\n",
        "    def __init__(self, account_number, initial_balance=0):\n",
        "        self.__account_number = account_number\n",
        "        self.__balance = initial_balance\n",
        "\n",
        "    def deposit(self, amount):\n",
        "        if amount > 0:\n",
        "            self.__balance += amount\n",
        "            print(f\"Deposited ${amount:.2f}. New balance: ${self.__balance:.2f}\")\n",
        "        else:\n",
        "            print(\"Deposit amount must be positive.\")\n",
        "\n",
        "    def withdraw(self, amount):\n",
        "        if amount > self.__balance:\n",
        "            print(\"Insufficient balance for this withdrawal.\")\n",
        "        elif amount > 0:\n",
        "            self.__balance -= amount\n",
        "            print(f\"Withdrew ${amount:.2f}. New balance: ${self.__balance:.2f}\")\n",
        "        else:\n",
        "            print(\"Withdrawal amount must be positive.\")\n",
        "\n",
        "    def get_balance(self):\n",
        "        return self.__balance\n",
        "\n",
        "    def get_account_number(self):\n",
        "        return self.__account_number\n",
        "\n",
        "account = BankAccount(\"12345678\", 500)\n",
        "\n",
        "account.deposit(150)\n",
        "\n",
        "account.withdraw(100)\n",
        "\n",
        "print(f\"Current balance: ${account.get_balance():.2f}\")\n",
        "\n",
        "print(f\"Account Number: {account.get_account_number()}\")\n"
      ],
      "metadata": {
        "colab": {
          "base_uri": "https://localhost:8080/"
        },
        "id": "rW5Uh8fuYXy6",
        "outputId": "aa17610d-485c-4cea-933f-9942e5e9a595"
      },
      "execution_count": 12,
      "outputs": [
        {
          "output_type": "stream",
          "name": "stdout",
          "text": [
            "Deposited $150.00. New balance: $650.00\n",
            "Withdrew $100.00. New balance: $550.00\n",
            "Current balance: $550.00\n",
            "Account Number: 12345678\n"
          ]
        }
      ]
    },
    {
      "cell_type": "code",
      "source": [
        "# 11) Write a class that overrides the `__str__` and `__add__` magic methods.\n",
        "# What will these methods allow you to do?\n",
        "\n",
        "class Point:\n",
        "    def __init__(self, x, y):\n",
        "        self.x = x\n",
        "        self.y = y\n",
        "\n",
        "    def __str__(self):\n",
        "        return f\"Point({self.x}, {self.y})\"\n",
        "\n",
        "    def __add__(self, other):\n",
        "        if isinstance(other, Point):\n",
        "            return Point(self.x + other.x, self.y + other.y)\n",
        "        return NotImplemented\n",
        "\n",
        "p1 = Point(3, 4)\n",
        "p2 = Point(1, 2)\n",
        "\n",
        "print(p1)\n",
        "print(p2)\n",
        "\n",
        "p3 = p1 + p2\n",
        "print(p3)\n"
      ],
      "metadata": {
        "colab": {
          "base_uri": "https://localhost:8080/"
        },
        "id": "idRZtz1PZPu6",
        "outputId": "3d5a1dc9-4352-4e3f-a047-b45bc764c845"
      },
      "execution_count": 13,
      "outputs": [
        {
          "output_type": "stream",
          "name": "stdout",
          "text": [
            "Point(3, 4)\n",
            "Point(1, 2)\n",
            "Point(4, 6)\n"
          ]
        }
      ]
    },
    {
      "cell_type": "code",
      "source": [
        "# 12) Create a decorator that measures and prints the execution time of a\n",
        "# function.\n",
        "\n",
        "import time\n",
        "\n",
        "\n",
        "def execution_time_decorator(func):\n",
        "    def wrapper(*args, **kwargs):\n",
        "        start_time = time.time()\n",
        "        result = func(*args, **kwargs)\n",
        "        end_time = time.time()\n",
        "        execution_time = end_time - start_time\n",
        "        print(f\"Execution time of {func.__name__}: {execution_time:.4f} seconds\")\n",
        "        return result\n",
        "    return wrapper\n",
        "\n",
        "@execution_time_decorator\n",
        "def example_function(n):\n",
        "    total = 0\n",
        "    for i in range(n):\n",
        "        total += i\n",
        "    return total\n",
        "\n",
        "# Call the function\n",
        "result = example_function(1000000)\n",
        "print(f\"Result: {result}\")\n"
      ],
      "metadata": {
        "colab": {
          "base_uri": "https://localhost:8080/"
        },
        "id": "9XN5l1PMZmN3",
        "outputId": "e23baee2-8e14-474b-8655-974c6b1d5733"
      },
      "execution_count": 17,
      "outputs": [
        {
          "output_type": "stream",
          "name": "stdout",
          "text": [
            "Execution time of example_function: 0.0693 seconds\n",
            "Result: 499999500000\n"
          ]
        }
      ]
    },
    {
      "cell_type": "code",
      "source": [
        "#13) Explain the concept of the Diamond Problem in multiple inheritance. How does Python resolve it?"
      ],
      "metadata": {
        "id": "4OpVZzVaaKWB"
      },
      "execution_count": null,
      "outputs": []
    },
    {
      "cell_type": "markdown",
      "source": [
        "The Diamond Problem in Multiple Inheritance\n",
        "The Diamond Problem occurs in object-oriented programming languages that allow multiple inheritance. It arises when a class inherits from two or more classes that have a common ancestor, forming a diamond shape in the inheritance hierarchy.\n",
        "\n",
        "Diamond Problem Structure:\n",
        "Consider the following class structure:\n",
        "\n",
        "Class A is the top-level base class.\n",
        "Class B and Class C both inherit from A.\n",
        "Class D inherits from both B and C.\n",
        "The problem arises when Class D tries to access a method or attribute defined in Class A. Since both BandCinherit fromA, Dcould inherit the method or attribute fromBorC. This creates ambiguity regarding which path to follow (either B -> AorC -> A) when resolving the method or attribute from A`.\n",
        "\n",
        "The Diamond Problem in Python\n",
        "In Python, the Method Resolution Order (MRO) is used to resolve this issue. Python uses the C3 Linearization (also known as C3 superclass linearization) to determine the order in which base classes are searched when executing a method or accessing an attribute. The MRO provides a linear sequence of classes to search, ensuring that each class is visited only once, and in a consistent order."
      ],
      "metadata": {
        "id": "h8AkumW5adkz"
      }
    },
    {
      "cell_type": "code",
      "source": [
        "#14) . Write a class method that keeps track of the number of instances created from a class.\n",
        "class InstanceCounter:\n",
        "    instance_count = 0\n",
        "\n",
        "    def __init__(self):\n",
        "        InstanceCounter.instance_count += 1\n",
        "\n",
        "    @classmethod\n",
        "    def get_instance_count(cls):\n",
        "        return cls.instance_count\n",
        "\n",
        "obj1 = InstanceCounter()\n",
        "obj2 = InstanceCounter()\n",
        "obj3 = InstanceCounter()\n",
        "\n",
        "print(f\"Number of instances created: {InstanceCounter.get_instance_count()}\")\n"
      ],
      "metadata": {
        "colab": {
          "base_uri": "https://localhost:8080/"
        },
        "id": "ftcW-K18apuj",
        "outputId": "c6f6f641-6a55-4c02-bd70-3ac380d23185"
      },
      "execution_count": 20,
      "outputs": [
        {
          "output_type": "stream",
          "name": "stdout",
          "text": [
            "Number of instances created: 3\n"
          ]
        }
      ]
    },
    {
      "cell_type": "code",
      "source": [
        "#15)  Implement a static method in a class that checks if a given year is a leap year.\n",
        "\n",
        "class YearChecker:\n",
        "    @staticmethod\n",
        "    def is_leap_year(year):\n",
        "        \"\"\"Check if the given year is a leap year.\"\"\"\n",
        "        if (year % 4 == 0 and year % 100 != 0) or (year % 400 == 0):\n",
        "            return True\n",
        "        return False\n",
        "\n",
        "year = 2024\n",
        "if YearChecker.is_leap_year(year):\n",
        "    print(f\"{year} is a leap year.\")\n",
        "else:\n",
        "    print(f\"{year} is not a leap year.\")\n",
        "\n",
        "print(YearChecker.is_leap_year(2000))\n",
        "print(YearChecker.is_leap_year(1900))\n",
        "print(YearChecker.is_leap_year(2023))\n"
      ],
      "metadata": {
        "colab": {
          "base_uri": "https://localhost:8080/"
        },
        "id": "xc7SUjCMbBbH",
        "outputId": "d0e65375-bed7-4f72-dfbd-6ad0c67aa66d"
      },
      "execution_count": 21,
      "outputs": [
        {
          "output_type": "stream",
          "name": "stdout",
          "text": [
            "2024 is a leap year.\n",
            "True\n",
            "False\n",
            "False\n"
          ]
        }
      ]
    }
  ]
}